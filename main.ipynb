{
 "cells": [
  {
   "cell_type": "markdown",
   "id": "8a6b7042",
   "metadata": {},
   "source": [
    "What is the difference between an integer and a float in Python? Provide an example of each.\n",
    "Explanation:\n",
    "\n",
    "An integer (int) is a whole number without any decimal part. It can be positive, negative, or zero.\n",
    "\n",
    "A float (float) is a number that includes a decimal point. It's used when precision with fractional values is needed."
   ]
  },
  {
   "cell_type": "code",
   "execution_count": 2,
   "id": "b064abb7",
   "metadata": {},
   "outputs": [
    {
     "name": "stdout",
     "output_type": "stream",
     "text": [
      "Integer: 10\n",
      "Float: 10.5\n"
     ]
    }
   ],
   "source": [
    "# Integer example\n",
    "num1 = 10\n",
    "print(\"Integer:\", num1)  # Output: Integer: 10\n",
    "\n",
    "# Float example\n",
    "num2 = 10.5\n",
    "print(\"Float:\", num2)    # Output: Float: 10.5\n"
   ]
  },
  {
   "cell_type": "markdown",
   "id": "2ba03b51",
   "metadata": {},
   "source": [
    "2. How do you declare a string variable in Python? Give an example of a string operation.\n",
    "Explanation:\n",
    "\n",
    "A string in Python is a sequence of characters enclosed in single (') or double (\") quotes."
   ]
  },
  {
   "cell_type": "code",
   "execution_count": 3,
   "id": "d6e4e62b",
   "metadata": {},
   "outputs": [
    {
     "name": "stdout",
     "output_type": "stream",
     "text": [
      "HELLO, WORLD!\n"
     ]
    }
   ],
   "source": [
    "# Declaring a string\n",
    "greeting = \"Hello, World!\"\n",
    "\n",
    "# String operation: converting to uppercase\n",
    "print(greeting.upper())  # Output: HELLO, WORLD!\n"
   ]
  },
  {
   "cell_type": "markdown",
   "id": "8d580118",
   "metadata": {},
   "source": [
    "3. What is a list in Python? How do you access and modify elements in a list?\n",
    "Explanation:\n",
    "\n",
    "A list is an ordered, mutable (changeable) collection of elements. Lists can contain different data types.\n",
    "\n",
    "Accessing and Modifying:\n",
    "\n",
    "Access with indexing: list[index]\n",
    "\n",
    "Modify by assigning a new value to a specific index."
   ]
  },
  {
   "cell_type": "code",
   "execution_count": 4,
   "id": "0cfa7f74",
   "metadata": {},
   "outputs": [
    {
     "name": "stdout",
     "output_type": "stream",
     "text": [
      "banana\n",
      "['apple', 'mango', 'cherry']\n"
     ]
    }
   ],
   "source": [
    "fruits = ['apple', 'banana', 'cherry' ]\n",
    "\n",
    "# Accessing element\n",
    "print(fruits[1])  # Output: banana\n",
    "\n",
    "# Modifying element\n",
    "fruits[1] = 'mango'\n",
    "print(fruits)  # Output: ['apple', 'mango', 'cherry']\n"
   ]
  },
  {
   "cell_type": "markdown",
   "id": "db98c059",
   "metadata": {},
   "source": [
    "4. Explain the difference between a tuple and a list in Python. Provide an example of when you would use each.\n",
    "Explanation:\n",
    "\n",
    "A list is mutable – it can be changed after creation (add, remove, or modify elements).\n",
    "\n",
    "A tuple is immutable – it cannot be changed after creation.\n",
    "\n",
    "Use Case Example:\n",
    "\n",
    "Use a list when you need a collection that will change (e.g., a shopping cart).\n",
    "\n",
    "Use a tuple when the data must remain constant (e.g., coordinates)."
   ]
  },
  {
   "cell_type": "code",
   "execution_count": 6,
   "id": "e589a176",
   "metadata": {},
   "outputs": [
    {
     "name": "stdout",
     "output_type": "stream",
     "text": [
      "[1, 2, 3, 4]\n",
      "(1, 2, 3)\n"
     ]
    }
   ],
   "source": [
    "# List (mutable)\n",
    "my_list = [1, 2, 3]\n",
    "my_list.append(4)\n",
    "print(my_list)\n",
    "\n",
    "# Tuple (immutable)\n",
    "my_tuple = (1, 2, 3)\n",
    "print(my_tuple)\n",
    "# my_tuple[0] = 5  # ❌ This will raise an error\n"
   ]
  },
  {
   "cell_type": "markdown",
   "id": "faa9a6c1",
   "metadata": {},
   "source": [
    "5. How do you create and access elements in a dictionary? Provide an example.\n",
    "Explanation:\n",
    "\n",
    "A dictionary in Python stores data in key-value pairs. Keys must be unique."
   ]
  },
  {
   "cell_type": "code",
   "execution_count": 8,
   "id": "8eb9898b",
   "metadata": {},
   "outputs": [
    {
     "name": "stdout",
     "output_type": "stream",
     "text": [
      "Muhammad Abubakar\n",
      "A\n"
     ]
    }
   ],
   "source": [
    "student = {\n",
    "    'name': 'Muhammad Abubakar',\n",
    "    'age': 20,\n",
    "    'grade': 'A'\n",
    "}\n",
    "\n",
    "# Accessing values\n",
    "print(student['name']) \n",
    "print(student.get('grade'))  \n"
   ]
  },
  {
   "cell_type": "markdown",
   "id": "ec881622",
   "metadata": {},
   "source": [
    "6. What is type casting in Python? Give an example of implicit and explicit type casting.\n",
    "Explanation:\n",
    "\n",
    "Type casting means converting one data type to another.\n",
    "\n",
    "Implicit casting: Python automatically converts the type.\n",
    "\n",
    "Explicit casting: You manually convert the type using functions like int(), float(), str()."
   ]
  },
  {
   "cell_type": "code",
   "execution_count": 9,
   "id": "15287dd1",
   "metadata": {},
   "outputs": [
    {
     "name": "stdout",
     "output_type": "stream",
     "text": [
      "7.0\n",
      "15\n"
     ]
    }
   ],
   "source": [
    "# Implicit casting\n",
    "x = 5       # int\n",
    "y = 2.0     # float\n",
    "z = x + y   # x is automatically converted to float\n",
    "print(z)    # Output: 7.0\n",
    "\n",
    "# Explicit casting\n",
    "a = '10'\n",
    "b = int(a) + 5\n",
    "print(b)    # Output: 15\n"
   ]
  },
  {
   "cell_type": "markdown",
   "id": "8501c43a",
   "metadata": {},
   "source": [
    "7. Write a Python code snippet to convert a string to an integer and perform arithmetic operations."
   ]
  },
  {
   "cell_type": "code",
   "execution_count": 10,
   "id": "a44eccc1",
   "metadata": {},
   "outputs": [
    {
     "name": "stdout",
     "output_type": "stream",
     "text": [
      "Result: 35\n"
     ]
    }
   ],
   "source": [
    "num_str = \"25\"\n",
    "num_int = int(num_str)  # Convert string to integer\n",
    "\n",
    "# Perform arithmetic\n",
    "result = num_int + 10\n",
    "print(\"Result:\", result)  # Output: Result: 35\n"
   ]
  },
  {
   "cell_type": "markdown",
   "id": "6983a716",
   "metadata": {},
   "source": [
    "8. How do you concatenate strings in Python? Provide an example.\n",
    "Explanation:\n",
    "\n",
    "String concatenation means joining two or more strings using the + operator or .join()."
   ]
  },
  {
   "cell_type": "code",
   "execution_count": null,
   "id": "4f7d8b52",
   "metadata": {},
   "outputs": [
    {
     "name": "stdout",
     "output_type": "stream",
     "text": [
      "Full Name: Muhammad Abubakar\n"
     ]
    }
   ],
   "source": [
    "first_name = \"Muhammad\"\n",
    "last_name = \"Abubakar\"\n",
    "\n",
    "# Using +\n",
    "full_name = first_name + \" \" + last_name\n",
    "print(\"Full Name:\", full_name)  \n"
   ]
  },
  {
   "cell_type": "markdown",
   "id": "5a4af88a",
   "metadata": {},
   "source": [
    "9. Explain the concept of indexing in Python lists and strings. Provide an example.\n",
    "Explanation:\n",
    "\n",
    "Indexing means accessing elements using their position (index).\n",
    "\n",
    "Python indexing starts from 0.\n",
    "\n",
    "Negative indexing starts from the end (-1)."
   ]
  },
  {
   "cell_type": "code",
   "execution_count": 12,
   "id": "7ac0d9af",
   "metadata": {},
   "outputs": [
    {
     "name": "stdout",
     "output_type": "stream",
     "text": [
      "red\n",
      "blue\n",
      "y\n",
      "o\n"
     ]
    }
   ],
   "source": [
    "# List indexing\n",
    "colors = ['red', 'green', 'blue']\n",
    "print(colors[0])   \n",
    "print(colors[-1])   \n",
    "\n",
    "# String indexing\n",
    "text = \"Python\"\n",
    "print(text[1])     \n",
    "print(text[-2])    \n"
   ]
  },
  {
   "cell_type": "markdown",
   "id": "55499c06",
   "metadata": {},
   "source": [
    "10. Write a Python program to create a dictionary with student names as keys and their ages as values. Then, access and print the age of a specific student.\n",
    "python\n",
    "\n"
   ]
  },
  {
   "cell_type": "code",
   "execution_count": 13,
   "id": "0abba460",
   "metadata": {},
   "outputs": [
    {
     "name": "stdout",
     "output_type": "stream",
     "text": [
      "M.Abubakar Age: 22\n"
     ]
    }
   ],
   "source": [
    "# Creating dictionary\n",
    "students = {\n",
    "    'Muhammad': 20,\n",
    "    'Abubakar': 22,\n",
    "    'Khan': 19\n",
    "}\n",
    "\n",
    "# Accessing age of a specific student\n",
    "print(\"M.Abubakar Age:\", students['Abubakar'])  \n"
   ]
  }
 ],
 "metadata": {
  "kernelspec": {
   "display_name": ".venv",
   "language": "python",
   "name": "python3"
  },
  "language_info": {
   "codemirror_mode": {
    "name": "ipython",
    "version": 3
   },
   "file_extension": ".py",
   "mimetype": "text/x-python",
   "name": "python",
   "nbconvert_exporter": "python",
   "pygments_lexer": "ipython3",
   "version": "3.13.2"
  }
 },
 "nbformat": 4,
 "nbformat_minor": 5
}
