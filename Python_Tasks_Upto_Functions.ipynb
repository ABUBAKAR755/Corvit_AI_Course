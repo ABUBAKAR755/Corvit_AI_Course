{
 "cells": [
  {
   "cell_type": "code",
   "execution_count": 1,
   "id": "4f8a22c0",
   "metadata": {},
   "outputs": [
    {
     "name": "stdout",
     "output_type": "stream",
     "text": [
      "Muhammad Abubakar\n"
     ]
    }
   ],
   "source": [
    "# 1. Print Your Name\n",
    "print(\"Muhammad Abubakar\")"
   ]
  },
  {
   "cell_type": "code",
   "execution_count": 2,
   "id": "7c7c01b5",
   "metadata": {},
   "outputs": [
    {
     "name": "stdout",
     "output_type": "stream",
     "text": [
      "Sum: 12\n"
     ]
    }
   ],
   "source": [
    "# 2. Sum of Two Numbers\n",
    "num1 = 5\n",
    "num2 = 7\n",
    "sum_result = num1 + num2\n",
    "print(\"Sum:\", sum_result)"
   ]
  },
  {
   "cell_type": "code",
   "execution_count": 3,
   "id": "6e722901",
   "metadata": {},
   "outputs": [
    {
     "name": "stdout",
     "output_type": "stream",
     "text": [
      "Even\n"
     ]
    }
   ],
   "source": [
    "# 3. Even or Odd\n",
    "number = 4\n",
    "if number % 2 == 0:\n",
    "    print(\"Even\")\n",
    "else:\n",
    "    print(\"Odd\")"
   ]
  },
  {
   "cell_type": "code",
   "execution_count": 4,
   "id": "9f18fd1c",
   "metadata": {},
   "outputs": [
    {
     "name": "stdout",
     "output_type": "stream",
     "text": [
      "Largest: 22\n"
     ]
    }
   ],
   "source": [
    "# 4. Find the Largest Number\n",
    "a, b, c = 15, 22, 9\n",
    "largest = max(a, b, c)\n",
    "print(\"Largest:\", largest)"
   ]
  },
  {
   "cell_type": "code",
   "execution_count": 6,
   "id": "4a3b0462",
   "metadata": {},
   "outputs": [
    {
     "name": "stdout",
     "output_type": "stream",
     "text": [
      "Squares from 1 to 10:\n",
      "1*2 = 1\n",
      "2*2 = 4\n",
      "3*2 = 9\n",
      "4*2 = 16\n",
      "5*2 = 25\n",
      "6*2 = 36\n",
      "7*2 = 49\n",
      "8*2 = 64\n",
      "9*2 = 81\n",
      "10*2 = 100\n"
     ]
    }
   ],
   "source": [
    "# 5. List of Squares\n",
    "print(\"Squares from 1 to 10:\")\n",
    "for i in range(1, 11):\n",
    "    print(f\"{i}*2 = {i**2}\")"
   ]
  },
  {
   "cell_type": "code",
   "execution_count": 7,
   "id": "3076bc64",
   "metadata": {},
   "outputs": [
    {
     "name": "stdout",
     "output_type": "stream",
     "text": [
      "Number of vowels: 3\n"
     ]
    }
   ],
   "source": [
    "# 6. Count Vowels in a String\n",
    "text = \"Hello World\"\n",
    "vowels = \"aeiouAEIOU\"\n",
    "count = sum(1 for char in text if char in vowels)\n",
    "print(\"Number of vowels:\", count)\n"
   ]
  },
  {
   "cell_type": "code",
   "execution_count": 8,
   "id": "857a1cf5",
   "metadata": {},
   "outputs": [
    {
     "name": "stdout",
     "output_type": "stream",
     "text": [
      "Reversed String: nohtyP\n"
     ]
    }
   ],
   "source": [
    "# 7. Reverse a String\n",
    "original = \"Python\"\n",
    "reversed_string = original[::-1]\n",
    "print(\"Reversed String:\", reversed_string)"
   ]
  },
  {
   "cell_type": "code",
   "execution_count": 9,
   "id": "06a19eed",
   "metadata": {},
   "outputs": [
    {
     "name": "stdout",
     "output_type": "stream",
     "text": [
      "Calculator Result: 50\n"
     ]
    }
   ],
   "source": [
    "# 8. Simple Calculator Function\n",
    "def calculator(a, b, operator):\n",
    "    if operator == '+':\n",
    "        return a + b\n",
    "    elif operator == '-':\n",
    "        return a - b\n",
    "    elif operator == '*':\n",
    "        return a * b\n",
    "    elif operator == '/':\n",
    "        return a / b\n",
    "    else:\n",
    "        return \"Invalid operator\"\n",
    "\n",
    "print(\"Calculator Result:\", calculator(10, 5, '*'))"
   ]
  },
  {
   "cell_type": "code",
   "execution_count": 10,
   "id": "affc9419",
   "metadata": {},
   "outputs": [
    {
     "name": "stdout",
     "output_type": "stream",
     "text": [
      "Is 17 prime? True\n"
     ]
    }
   ],
   "source": [
    "# 9. Check Prime Number\n",
    "def is_prime(n):\n",
    "    if n <= 1:\n",
    "        return False\n",
    "    for i in range(2, int(n**0.5)+1):\n",
    "        if n % i == 0:\n",
    "            return False\n",
    "    return True\n",
    "\n",
    "print(\"Is 17 prime?\", is_prime(17))"
   ]
  },
  {
   "cell_type": "code",
   "execution_count": 11,
   "id": "4e090cd6",
   "metadata": {},
   "outputs": [
    {
     "name": "stdout",
     "output_type": "stream",
     "text": [
      "Fibonacci Sequence: [0, 1, 1, 2, 3, 5, 8, 13, 21, 34]\n"
     ]
    }
   ],
   "source": [
    "# 10. Fibonacci Sequence\n",
    "def fibonacci(n):\n",
    "    a, b = 0, 1\n",
    "    sequence = []\n",
    "    for _ in range(n):\n",
    "        sequence.append(a)\n",
    "        a, b = b, a + b\n",
    "    return sequence\n",
    "\n",
    "print(\"Fibonacci Sequence:\", fibonacci(10))"
   ]
  }
 ],
 "metadata": {
  "kernelspec": {
   "display_name": ".venv",
   "language": "python",
   "name": "python3"
  },
  "language_info": {
   "codemirror_mode": {
    "name": "ipython",
    "version": 3
   },
   "file_extension": ".py",
   "mimetype": "text/x-python",
   "name": "python",
   "nbconvert_exporter": "python",
   "pygments_lexer": "ipython3",
   "version": "3.13.2"
  }
 },
 "nbformat": 4,
 "nbformat_minor": 5
}
